{
 "cells": [
  {
   "cell_type": "code",
   "execution_count": 1,
   "metadata": {},
   "outputs": [
    {
     "name": "stderr",
     "output_type": "stream",
     "text": [
      "A matching Triton is not available, some optimizations will not be enabled\n",
      "Traceback (most recent call last):\n",
      "  File \"c:\\Users\\LENOVO\\AppData\\Local\\Programs\\Python\\Python39\\lib\\site-packages\\xformers\\__init__.py\", line 57, in _is_triton_available\n",
      "    import triton  # noqa\n",
      "ModuleNotFoundError: No module named 'triton'\n"
     ]
    }
   ],
   "source": [
    "# DeepSeek-VL2 Interactive Notebook\n",
    "# This notebook allows you to interact with DeepSeek-VL2 directly in Jupyter Notebook.\n",
    "# It loads the model from a local directory and supports uploading images.\n",
    "\n",
    "# 📌 Required Libraries\n",
    "import os\n",
    "import torch\n",
    "import PIL.Image\n",
    "import ipywidgets as widgets\n",
    "from IPython.display import display\n",
    "from transformers import AutoModelForCausalLM\n",
    "from deepseek_vl2.models import DeepseekVLV2ForCausalLM, DeepseekVLV2Processor\n",
    "from deepseek_vl2.serve.app_modules.utils import parse_ref_bbox"
   ]
  },
  {
   "cell_type": "code",
   "execution_count": 2,
   "metadata": {},
   "outputs": [],
   "source": [
    "# 🛠 Set the LOCAL MODEL PATH (Update if needed)\n",
    "LOCAL_MODEL_PATH = r\"C:\\Users\\LENOVO\\.cache\\huggingface\\hub\\models--deepseek-ai--deepseek-vl2-tiny\\snapshots\\66c54660eae7e90c9ba259bfdf92d07d6e3ce8aa\"\n",
    "\n",
    "# ✅ Function to Load Model from Local Path\n",
    "def load_model(model_path=LOCAL_MODEL_PATH, dtype=torch.bfloat16):\n",
    "    \"\"\"Load the DeepSeek-VL2 model from a local directory.\"\"\"\n",
    "    print(f\"🔄 Loading model from {model_path}...\")\n",
    "    \n",
    "    vl_chat_processor = DeepseekVLV2Processor.from_pretrained(\n",
    "        model_path, local_files_only=True\n",
    "    )\n",
    "    tokenizer = vl_chat_processor.tokenizer\n",
    "\n",
    "    vl_gpt = AutoModelForCausalLM.from_pretrained(\n",
    "        model_path, trust_remote_code=True, torch_dtype=dtype, local_files_only=True\n",
    "    ).cuda().eval()\n",
    "\n",
    "    print(\"✅ Model loaded successfully!\")\n",
    "    return vl_chat_processor, tokenizer, vl_gpt"
   ]
  },
  {
   "cell_type": "code",
   "execution_count": 3,
   "metadata": {},
   "outputs": [],
   "source": [
    "# ✅ Function to Save Uploaded Images (Corrected)\n",
    "def save_uploaded_images(uploaded_files, temp_folder=\"temp_images\"):\n",
    "    \"\"\"Save uploaded images and return their file paths.\"\"\"\n",
    "    os.makedirs(temp_folder, exist_ok=True)  # Ensure the folder exists\n",
    "    saved_paths = []\n",
    "\n",
    "    for uploaded_file in uploaded_files:  # Iterate directly over tuple\n",
    "        filepath = os.path.join(temp_folder, uploaded_file.name)  # Get filename\n",
    "        with open(filepath, \"wb\") as f:\n",
    "            f.write(uploaded_file.content)  # 🔹 Corrected: Use .content instead of .data\n",
    "        saved_paths.append(filepath)\n",
    "\n",
    "    return saved_paths\n",
    "\n",
    "# ✅ Function to Load PIL Images\n",
    "def load_pil_images(image_paths):\n",
    "    \"\"\"Load images as PIL objects.\"\"\"\n",
    "    pil_images = []\n",
    "    for image_path in image_paths:\n",
    "        pil_img = PIL.Image.open(image_path).convert(\"RGB\")\n",
    "        pil_images.append(pil_img)\n",
    "    return pil_images"
   ]
  },
  {
   "cell_type": "code",
   "execution_count": null,
   "metadata": {},
   "outputs": [
    {
     "data": {
      "application/vnd.jupyter.widget-view+json": {
       "model_id": "2851d4ff1de14a3abff6429f688f1c63",
       "version_major": 2,
       "version_minor": 0
      },
      "text/plain": [
       "Textarea(value='', layout=Layout(height='100px', width='100%'), placeholder='Enter your text prompt...')"
      ]
     },
     "metadata": {},
     "output_type": "display_data"
    },
    {
     "data": {
      "application/vnd.jupyter.widget-view+json": {
       "model_id": "6a38519c3870484f9afdc7a23b181afe",
       "version_major": 2,
       "version_minor": 0
      },
      "text/plain": [
       "FileUpload(value=(), accept='image/*', description='Upload', multiple=True)"
      ]
     },
     "metadata": {},
     "output_type": "display_data"
    },
    {
     "data": {
      "application/vnd.jupyter.widget-view+json": {
       "model_id": "51a65e7f4ccf479cbd118974d09fc772",
       "version_major": 2,
       "version_minor": 0
      },
      "text/plain": [
       "Button(description='Generate Response', style=ButtonStyle())"
      ]
     },
     "metadata": {},
     "output_type": "display_data"
    },
    {
     "data": {
      "application/vnd.jupyter.widget-view+json": {
       "model_id": "dd89b5fb3b0944638e65f1743af4a8dc",
       "version_major": 2,
       "version_minor": 0
      },
      "text/plain": [
       "Output()"
      ]
     },
     "metadata": {},
     "output_type": "display_data"
    }
   ],
   "source": [
    "# ✅ Function to Generate Model Response\n",
    "def generate_response(text, images, temperature=0.4, top_p=0.9, repetition_penalty=1.1):\n",
    "    \"\"\"Generate a response using the DeepSeek-VL2 model.\"\"\"\n",
    "    vl_chat_processor, tokenizer, vl_gpt = load_model()\n",
    "\n",
    "    # Prepare conversation\n",
    "    conversation = [{\"role\": \"<|User|>\", \"content\": text, \"images\": images}, {\"role\": \"<|Assistant|>\", \"content\": \"\"}]\n",
    "    pil_images = load_pil_images(images)\n",
    "\n",
    "    prepare_inputs = vl_chat_processor.__call__(\n",
    "        conversations=conversation,\n",
    "        images=pil_images,\n",
    "        force_batchify=True,\n",
    "        system_prompt=\"\"\n",
    "    ).to(vl_gpt.device)\n",
    "\n",
    "    with torch.no_grad():\n",
    "        inputs_embeds = vl_gpt.prepare_inputs_embeds(**prepare_inputs)\n",
    "\n",
    "        outputs = vl_gpt.generate(\n",
    "            inputs_embeds=inputs_embeds,\n",
    "            input_ids=prepare_inputs.input_ids,\n",
    "            images=prepare_inputs.images,\n",
    "            images_seq_mask=prepare_inputs.images_seq_mask,\n",
    "            images_spatial_crop=prepare_inputs.images_spatial_crop,\n",
    "            attention_mask=prepare_inputs.attention_mask,\n",
    "            pad_token_id=tokenizer.eos_token_id,\n",
    "            bos_token_id=tokenizer.bos_token_id,\n",
    "            eos_token_id=tokenizer.eos_token_id,\n",
    "            max_new_tokens=512,\n",
    "            do_sample=True,\n",
    "            temperature=temperature,\n",
    "            top_p=top_p,\n",
    "            repetition_penalty=repetition_penalty,\n",
    "            use_cache=True,\n",
    "        )\n",
    "\n",
    "        answer = tokenizer.decode(outputs[0][len(prepare_inputs.input_ids[0]):].cpu().tolist(), skip_special_tokens=False)\n",
    "        print(f\"🗨️ Assistant:\\n{answer}\")\n",
    "\n",
    "        # Display visual grounding image if applicable\n",
    "        vg_image = parse_ref_bbox(answer, image=pil_images[-1]) if pil_images else None\n",
    "        if vg_image:\n",
    "            display(vg_image)\n",
    "\n",
    "        return answer\n",
    "\n",
    "# ✅ Create Interactive Widgets\n",
    "text_input = widgets.Textarea(\n",
    "    placeholder=\"Enter your text prompt...\",\n",
    "    layout=widgets.Layout(width=\"100%\", height=\"100px\"),\n",
    ")\n",
    "\n",
    "image_uploader = widgets.FileUpload(\n",
    "    accept=\"image/*\", multiple=True\n",
    ")\n",
    "\n",
    "generate_button = widgets.Button(description=\"Generate Response\")\n",
    "output_area = widgets.Output()\n",
    "\n",
    "# ✅ Define Button Click Function\n",
    "def on_generate_clicked(b):\n",
    "    with output_area:\n",
    "        output_area.clear_output()\n",
    "        text = text_input.value  # Get user input text\n",
    "\n",
    "        # Ensure images are uploaded before proceeding\n",
    "        if not image_uploader.value:\n",
    "            print(\"⚠️ No images uploaded. Please upload an image before submitting.\")\n",
    "            return\n",
    "\n",
    "        # Save images and get file paths\n",
    "        image_paths = save_uploaded_images(image_uploader.value)\n",
    "\n",
    "        # Generate response using saved image paths\n",
    "        response = generate_response(text, image_paths)\n",
    "        print(\"Response:\\n\", response)\n",
    "\n",
    "# ✅ Attach Function to Button Click\n",
    "generate_button.on_click(on_generate_clicked)\n",
    "\n",
    "# ✅ Display UI Elements\n",
    "display(text_input, image_uploader, generate_button, output_area)"
   ]
  },
  {
   "cell_type": "code",
   "execution_count": 10,
   "metadata": {},
   "outputs": [
    {
     "data": {
      "application/vnd.jupyter.widget-view+json": {
       "model_id": "476331f4df884de4a284fb13b4a160e1",
       "version_major": 2,
       "version_minor": 0
      },
      "text/plain": [
       "Textarea(value='', layout=Layout(height='100px', width='100%'), placeholder='Enter your text prompt...')"
      ]
     },
     "metadata": {},
     "output_type": "display_data"
    },
    {
     "data": {
      "application/vnd.jupyter.widget-view+json": {
       "model_id": "838909b661bb448eb8b4d1ae7b5833fe",
       "version_major": 2,
       "version_minor": 0
      },
      "text/plain": [
       "FileUpload(value=(), accept='image/*', description='Upload', multiple=True)"
      ]
     },
     "metadata": {},
     "output_type": "display_data"
    },
    {
     "data": {
      "application/vnd.jupyter.widget-view+json": {
       "model_id": "e07176f6d1684da784c0fd4c56948c22",
       "version_major": 2,
       "version_minor": 0
      },
      "text/plain": [
       "Button(description='Generate Response', style=ButtonStyle())"
      ]
     },
     "metadata": {},
     "output_type": "display_data"
    },
    {
     "data": {
      "application/vnd.jupyter.widget-view+json": {
       "model_id": "428c1a398a12410e8963c6134786898c",
       "version_major": 2,
       "version_minor": 0
      },
      "text/plain": [
       "Output()"
      ]
     },
     "metadata": {},
     "output_type": "display_data"
    }
   ],
   "source": [
    "# ✅ Function to Generate Model Response\n",
    "def generate_response(text, images, temperature=0.4, top_p=0.9, repetition_penalty=1.1):\n",
    "    \"\"\"Generate a response using the DeepSeek-VL2 model.\"\"\"\n",
    "    vl_chat_processor, tokenizer, vl_gpt = load_model()\n",
    "\n",
    "    # Prepare conversation\n",
    "    conversation = [{\"role\": \"<|User|>\", \"content\": text, \"images\": images}, {\"role\": \"<|Assistant|>\", \"content\": \"\"}]\n",
    "    pil_images = load_pil_images(images)\n",
    "\n",
    "    prepare_inputs = vl_chat_processor.__call__(\n",
    "        conversations=conversation,\n",
    "        images=pil_images,\n",
    "        force_batchify=True,\n",
    "        system_prompt=\"\"\n",
    "    ).to(vl_gpt.device)\n",
    "\n",
    "    with torch.no_grad():\n",
    "        inputs_embeds = vl_gpt.prepare_inputs_embeds(**prepare_inputs)\n",
    "\n",
    "        outputs = vl_gpt.generate(\n",
    "            inputs_embeds=inputs_embeds,\n",
    "            input_ids=prepare_inputs.input_ids,\n",
    "            images=prepare_inputs.images,\n",
    "            images_seq_mask=prepare_inputs.images_seq_mask,\n",
    "            images_spatial_crop=prepare_inputs.images_spatial_crop,\n",
    "            attention_mask=prepare_inputs.attention_mask,\n",
    "            pad_token_id=tokenizer.eos_token_id,\n",
    "            bos_token_id=tokenizer.bos_token_id,\n",
    "            eos_token_id=tokenizer.eos_token_id,\n",
    "            max_new_tokens=512,\n",
    "            do_sample=True,\n",
    "            temperature=temperature,\n",
    "            top_p=top_p,\n",
    "            repetition_penalty=repetition_penalty,\n",
    "            use_cache=True,\n",
    "        )\n",
    "\n",
    "        answer = tokenizer.decode(outputs[0][len(prepare_inputs.input_ids[0]):].cpu().tolist(), skip_special_tokens=False)\n",
    "        print(f\"🗨️ Assistant:\\n{answer}\")\n",
    "\n",
    "        # Display visual grounding image if applicable\n",
    "        vg_image = parse_ref_bbox(answer, image=pil_images[-1]) if pil_images else None\n",
    "        if vg_image:\n",
    "            display(vg_image)\n",
    "\n",
    "        return answer\n",
    "\n",
    "# ✅ Create Interactive Widgets\n",
    "text_input = widgets.Textarea(\n",
    "    placeholder=\"Enter your text prompt...\",\n",
    "    layout=widgets.Layout(width=\"100%\", height=\"100px\"),\n",
    ")\n",
    "\n",
    "image_uploader = widgets.FileUpload(\n",
    "    accept=\"image/*\", multiple=True\n",
    ")\n",
    "\n",
    "generate_button = widgets.Button(description=\"Generate Response\")\n",
    "output_area = widgets.Output()\n",
    "\n",
    "# ✅ Define Button Click Function\n",
    "def on_generate_clicked(b):\n",
    "    with output_area:\n",
    "        output_area.clear_output()\n",
    "        text = text_input.value  # Get user input text\n",
    "\n",
    "        # Ensure images are uploaded before proceeding\n",
    "        if not image_uploader.value:\n",
    "            print(\"⚠️ No images uploaded. Please upload an image before submitting.\")\n",
    "            return\n",
    "\n",
    "        # Save images and get file paths\n",
    "        image_paths = save_uploaded_images(image_uploader.value)\n",
    "\n",
    "        # Generate response using saved image paths\n",
    "        response = generate_response(text, image_paths)\n",
    "        print(\"Response:\\n\", response)\n",
    "\n",
    "# ✅ Attach Function to Button Click\n",
    "generate_button.on_click(on_generate_clicked)\n",
    "\n",
    "# ✅ Display UI Elements\n",
    "display(text_input, image_uploader, generate_button, output_area)"
   ]
  },
  {
   "cell_type": "code",
   "execution_count": null,
   "metadata": {},
   "outputs": [],
   "source": []
  }
 ],
 "metadata": {
  "kernelspec": {
   "display_name": "Python 3",
   "language": "python",
   "name": "python3"
  },
  "language_info": {
   "codemirror_mode": {
    "name": "ipython",
    "version": 3
   },
   "file_extension": ".py",
   "mimetype": "text/x-python",
   "name": "python",
   "nbconvert_exporter": "python",
   "pygments_lexer": "ipython3",
   "version": "3.9.0"
  }
 },
 "nbformat": 4,
 "nbformat_minor": 2
}
